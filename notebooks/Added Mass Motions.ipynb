{
 "cells": [
  {
   "cell_type": "markdown",
   "id": "43e0a0c4",
   "metadata": {},
   "source": [
    "# Added Mass Motions"
   ]
  },
  {
   "cell_type": "markdown",
   "id": "c6cc5f71",
   "metadata": {},
   "source": [
    "In this notebook you will find:\n",
    "\n",
    "1. An implementation of the equations of motion for added mass found in Fossen's _Guidance and Control of Ocean Vehicles_ (1994).\n",
    "\n",
    "2. Integration of the equations of motion using a Semi-implicit Euler integrator.\n",
    "\n",
    "3. Plots from the integrated motion."
   ]
  },
  {
   "cell_type": "markdown",
   "id": "bcc3237b",
   "metadata": {},
   "source": [
    "---"
   ]
  },
  {
   "cell_type": "code",
   "execution_count": null,
   "id": "6a25e4f5",
   "metadata": {},
   "outputs": [],
   "source": [
    "%matplotlib notebook"
   ]
  },
  {
   "cell_type": "code",
   "execution_count": null,
   "id": "8b65000d",
   "metadata": {},
   "outputs": [],
   "source": [
    "import matplotlib.pyplot as plt\n",
    "\n",
    "import numpy as np\n",
    "\n",
    "import quaternion as qt\n",
    "\n",
    "import scipy as sp"
   ]
  },
  {
   "cell_type": "markdown",
   "id": "67646de9",
   "metadata": {},
   "source": [
    "---"
   ]
  },
  {
   "cell_type": "markdown",
   "id": "8a142b25",
   "metadata": {},
   "source": [
    "# 1. Implementation of the Equations of Motion"
   ]
  },
  {
   "cell_type": "code",
   "execution_count": null,
   "id": "7446add5",
   "metadata": {},
   "outputs": [],
   "source": [
    "# Custom `dtype` used to store poses. Each pose will contain a timestamp 't', a position 'p', and a\n",
    "# quaternion representing orientation 'q'.\n",
    "pose_dtype = np.dtype([('t', np.float64), ('p', np.float64, 3), ('q', qt.quaternion)])"
   ]
  },
  {
   "cell_type": "code",
   "execution_count": null,
   "id": "2c0e8355",
   "metadata": {},
   "outputs": [],
   "source": [
    "def hat(v):\n",
    "    \"\"\"Return the left cross-product matrix for the input vector.\"\"\"\n",
    "    return np.array([\n",
    "        [0, -v[2], v[1]],\n",
    "        [v[2], 0, -v[0]],\n",
    "        [-v[1], v[0], 0]\n",
    "    ])"
   ]
  },
  {
   "cell_type": "code",
   "execution_count": null,
   "id": "7eb1fbe4",
   "metadata": {},
   "outputs": [],
   "source": [
    "def generate_equations_of_motion(spatial_inertia_body):\n",
    "    \"\"\"\n",
    "    Return a function implementing the equations of motion of the rigid body in a fixed frame.\n",
    "    \n",
    "    The implementation follows the derivation in Fossen's _Guidance and Control of Ocean Vehicles_ (1994).\n",
    "    \n",
    "    Args:\n",
    "        spatial_inertia_body: The 6×6 (body-fixed) spatial inertia matrix, expressed in the body frame. It\n",
    "            must be invertible, but no other assumptions are made (e.g. no assumptions about symmetry or\n",
    "            positive-definiteness).\n",
    "    \n",
    "    Returns:\n",
    "        A function implementing the equations of motion of the rigid body in a fixed frame. The function takes\n",
    "        three arguments: `pose`, a scalar ndarray of dtype `pose_dtype`, with the body's pose; `vels`,\n",
    "        a 6-element 1-dimensional ndarray, with the body's linear and angular velocities, in this order; and\n",
    "        `forces`, a 6-element 1-dimensional ndarray, with the applied forces and torques, in this order. The\n",
    "        function returns a 6-element 1-dimensional ndarray, containing the resulting linear and angular\n",
    "        accelerations, in this order. It requires all quantities to be expressed in the same fixed frame.\n",
    "    \"\"\"\n",
    "    \n",
    "    # Implementation of the rigid body equations of motion in the body frame. The implementation corresponds\n",
    "    # to equation (2.90) in Fossen's book, and follows the same nomenclature.\n",
    "    def eomB(M, ν, τ):\n",
    "        ν1 = ν[:3]\n",
    "        ν2 = ν[3:]\n",
    "        M11 = M[:3, :3]\n",
    "        M12 = M[:3, 3:]\n",
    "        M21 = M[3:, :3]\n",
    "        M22 = M[3:, 3:]\n",
    "        C = np.r_[\n",
    "            np.c_[np.zeros((3, 3)), -hat(M11 @ ν1 + M12 @ ν2)],\n",
    "            np.c_[-hat(M11 @ ν1 + M12 @ ν2), -hat(M21 @ ν1 + M22 @ ν2)]]\n",
    "        return np.linalg.inv(M) @ (τ - C @ ν)\n",
    "\n",
    "    # Implementation of the rigid body equations of motion in the fixed frame.\n",
    "    def eom(pose, vels, forces):\n",
    "        R = qt.as_rotation_matrix(pose['q'])\n",
    "        RR = sp.linalg.block_diag(R, R)\n",
    "        M = RR @ spatial_inertia_body @ RR.T\n",
    "        w = vels[3:]\n",
    "        ν = vels\n",
    "        τ = forces\n",
    "        νd = eomB(M, ν, τ)\n",
    "        return νd + sp.linalg.block_diag(hat(w), hat(w)) @ vels\n",
    "    \n",
    "    return eom"
   ]
  },
  {
   "cell_type": "markdown",
   "id": "a45f3de2",
   "metadata": {},
   "source": [
    "---"
   ]
  },
  {
   "cell_type": "markdown",
   "id": "5c8e5130",
   "metadata": {},
   "source": [
    "# 2. Integration of the Equations of Motion"
   ]
  },
  {
   "cell_type": "markdown",
   "id": "8237879f",
   "metadata": {},
   "source": [
    "## 2.1 Discretization of the Equations of Motion"
   ]
  },
  {
   "cell_type": "code",
   "execution_count": null,
   "id": "a023849d",
   "metadata": {},
   "outputs": [],
   "source": [
    "def generate_discrete_eom(eom, Δt):\n",
    "    \"\"\"\n",
    "    Given a continuous version of the equations of motion, return a discretized version.\n",
    "    \n",
    "    This implementation uses Semi-implicit Euler to discretize the equations of motion.\n",
    "    \n",
    "    Args:\n",
    "        eom: The continuous version of the equations of motion.\n",
    "        Δt: Timestep used to discretize the equations of motion.\n",
    "    \n",
    "    Returns:\n",
    "        A function that implements a discretized version of the equations of motion. The function takes 6\n",
    "        arguments, the first 3 acting as arguments and the remaining 3 acting as outputs. The input arguments\n",
    "        are: `pose`, a scalar ndarray of dtype `pose_dtype`, with the body's pose before the application of\n",
    "        the equations of motion; `vels`, a 6-element 1-dimensional ndarray, with the body's linear and angular\n",
    "        velocities, in this order, before the application of the equations of motion; and `forces`, a\n",
    "        6-element 1-dimensional ndarray, with the applied forces and torques, in this order, before the\n",
    "        application of the equations of motion. The output arguments are: `pose_out`, a scalar ndarray of\n",
    "        type `pose_dtype`, with the body's pose after the application of the equations of motion;\n",
    "        `vels_out`, a 6-element 1-dimensional ndarray, with the body's linear and angular velocities, in this\n",
    "        order, after the application of the equations of motion; and `accs_out`, a 6-element 1-dimensional\n",
    "        ndarray, with the linear and angular accelerations, in this order, returned by the continuous\n",
    "        equations of motion. The function has no return values.\n",
    "    \"\"\"\n",
    "    \n",
    "    def discrete_eom(pose, vels, forces, pose_out, vels_out, accs_out):\n",
    "        accs_out[:] = eom(pose, vels, forces)\n",
    "        vels_out[:] = vels + Δt * accs_out\n",
    "        pose_out['t'] = pose['t'] + Δt\n",
    "        pose_out['p'] = pose['p'] + Δt * vels_out[:3]\n",
    "        pose_out['q'] = qt.from_rotation_vector(Δt * vels_out[3:]) * pose['q']\n",
    "    \n",
    "    return discrete_eom"
   ]
  },
  {
   "cell_type": "markdown",
   "id": "e8ff9774",
   "metadata": {},
   "source": [
    "---"
   ]
  },
  {
   "cell_type": "markdown",
   "id": "c94076d8",
   "metadata": {},
   "source": [
    "## 2.2 Integrate the Equations of Motion"
   ]
  },
  {
   "cell_type": "code",
   "execution_count": null,
   "id": "3b65b924",
   "metadata": {},
   "outputs": [],
   "source": [
    "def apply_discrete_eom(pose0, vels0, forces, discrete_eom, n_steps):\n",
    "    \"\"\"\n",
    "    Apply the equations of motion for a given number of time steps.\n",
    "    \n",
    "    Args:\n",
    "        pose0: Initial pose. This must be a scalar ndarray with dtype `pose_dtype`.\n",
    "        vels0: Initial linear and angular velocity. This must be a 6-element 1-dimensional\n",
    "            ndarray, the first 3 elements being the linear velocity and the remaining 3 elements being the\n",
    "            angular velocity.\n",
    "        forces: Forces and torques, applied during the motion. This must be a `(n_steps, 6)`-shaped ndarray,\n",
    "            with each row corresponding to the forces and torques applied at each timestep. The first three\n",
    "            columns correspond to forces and the remaining three columns correspond to torques.\n",
    "        discrete_eom: Discrete version of the equations of motion. This matches the signature of the return\n",
    "            value of `generate_discrete_eom`.\n",
    "        n_steps: Number of timesteps to apply the equations of motion.\n",
    "\n",
    "    Returns:\n",
    "        A tuple of ndarrays: The first ndarray is `(n_steps + 1)`-shaped with dtype `pose_dtype`; the n-th\n",
    "        column contains the pose before the n-th step. The second ndarray is `(n_steps + 1, 6)`-shaped; the\n",
    "        n-th column contains the linear and angular velocities, in this order, before the n-th timestep. The\n",
    "        third (and last) ndarray is `(n_steps, 6)`-shaped; the n-th column contains the linear and angular\n",
    "        acceleration, in this order, before the n-th timestep.\n",
    "    \"\"\"\n",
    "    poses = np.zeros(n_steps + 1, dtype=pose_dtype)\n",
    "    vels = np.zeros((n_steps + 1, 6))\n",
    "    accs = np.zeros((n_steps, 6))\n",
    "    \n",
    "    poses[0] = pose0\n",
    "    vels[0] = vels0\n",
    "    \n",
    "    for n in range(n_steps):\n",
    "        discrete_eom(poses[n], vels[n], forces[n], poses[n + 1], vels[n + 1], accs[n])\n",
    "    \n",
    "    return poses, vels, accs"
   ]
  },
  {
   "cell_type": "markdown",
   "id": "7ce8ca1f",
   "metadata": {},
   "source": [
    "---"
   ]
  },
  {
   "cell_type": "code",
   "execution_count": null,
   "id": "2fe925b3",
   "metadata": {},
   "outputs": [],
   "source": [
    "# Body spatial inertia (in the body frame). Top-left quarter corresponds to body mass, bottom-right quarter is\n",
    "# the tensor of inertia.\n",
    "spatial_inertia_body = np.eye(6)"
   ]
  },
  {
   "cell_type": "code",
   "execution_count": null,
   "id": "058dc4b0",
   "metadata": {},
   "outputs": [],
   "source": [
    "# Equations of motion.\n",
    "eom = generate_equations_of_motion(spatial_inertia_body)"
   ]
  },
  {
   "cell_type": "code",
   "execution_count": null,
   "id": "029b31b4",
   "metadata": {},
   "outputs": [],
   "source": [
    "# Integration timestep.\n",
    "Δt = 1e-3"
   ]
  },
  {
   "cell_type": "code",
   "execution_count": null,
   "id": "0fd8d545",
   "metadata": {},
   "outputs": [],
   "source": [
    "# Discrete equations of motion.\n",
    "discrete_eom = generate_discrete_eom(eom, Δt)"
   ]
  },
  {
   "cell_type": "code",
   "execution_count": null,
   "id": "c5cddbc7",
   "metadata": {},
   "outputs": [],
   "source": [
    "# Initial pose.\n",
    "pose0 = np.zeros((), dtype=pose_dtype)\n",
    "pose0['t'] = 0\n",
    "pose0['p'] = np.zeros(3)\n",
    "pose0['q'] = qt.one"
   ]
  },
  {
   "cell_type": "code",
   "execution_count": null,
   "id": "f8b3be7c",
   "metadata": {},
   "outputs": [],
   "source": [
    "# Initial linear and angular velocities.\n",
    "vels0 = np.zeros(6)"
   ]
  },
  {
   "cell_type": "code",
   "execution_count": null,
   "id": "5cb5f58d",
   "metadata": {},
   "outputs": [],
   "source": [
    "# Number of integration steps.\n",
    "n_steps = int(1e3) - 1"
   ]
  },
  {
   "cell_type": "code",
   "execution_count": null,
   "id": "a7f9cf76",
   "metadata": {},
   "outputs": [],
   "source": [
    "# Forces and torques applied throughout the motion, in the fixed reference frame.\n",
    "forces = np.zeros((n_steps, 6))"
   ]
  },
  {
   "cell_type": "code",
   "execution_count": null,
   "id": "a448c90b",
   "metadata": {},
   "outputs": [],
   "source": [
    "poses, vels, accs = apply_discrete_eom(pose0, vels0, forces, discrete_eom, n_steps)"
   ]
  },
  {
   "cell_type": "markdown",
   "id": "33679fa7",
   "metadata": {},
   "source": [
    "---"
   ]
  },
  {
   "cell_type": "markdown",
   "id": "16081d19",
   "metadata": {},
   "source": [
    "# 3. Plot the Integrated Motion"
   ]
  },
  {
   "cell_type": "code",
   "execution_count": null,
   "id": "373c0870",
   "metadata": {},
   "outputs": [],
   "source": [
    "# Position\n",
    "\n",
    "fig = plt.figure()\n",
    "\n",
    "plt.subplot(3, 1, 1)\n",
    "plt.plot(poses['t'], poses['p'][:, 0])\n",
    "plt.grid()\n",
    "plt.ylabel('x')\n",
    "\n",
    "plt.subplot(3, 1, 2)\n",
    "plt.plot(poses['t'], poses['p'][:, 1])\n",
    "plt.grid()\n",
    "plt.ylabel('y')\n",
    "\n",
    "plt.subplot(3, 1, 3)\n",
    "plt.plot(poses['t'], poses['p'][:, 2])\n",
    "plt.grid()\n",
    "plt.xlabel('time')\n",
    "plt.ylabel('z')\n",
    "\n",
    "fig.suptitle('Position')"
   ]
  },
  {
   "cell_type": "code",
   "execution_count": null,
   "id": "f27bf7c1",
   "metadata": {},
   "outputs": [],
   "source": [
    "# Orientation\n",
    "\n",
    "fig = plt.figure()\n",
    "\n",
    "plt.subplot(2, 2, 1)\n",
    "plt.plot(poses['t'], qt.as_float_array(poses['q'])[:, 0])\n",
    "plt.grid()\n",
    "plt.ylabel('w')\n",
    "\n",
    "plt.subplot(2, 2, 2)\n",
    "plt.plot(poses['t'], qt.as_float_array(poses['q'])[:, 1])\n",
    "plt.grid()\n",
    "plt.ylabel('x')\n",
    "\n",
    "plt.subplot(2, 2, 3)\n",
    "plt.plot(poses['t'], qt.as_float_array(poses['q'])[:, 2])\n",
    "plt.grid()\n",
    "plt.xlabel('time')\n",
    "plt.ylabel('y')\n",
    "\n",
    "plt.subplot(2, 2, 4)\n",
    "plt.plot(poses['t'], qt.as_float_array(poses['q'])[:, 3])\n",
    "plt.grid()\n",
    "plt.xlabel('time')\n",
    "plt.ylabel('z')\n",
    "\n",
    "fig.suptitle('Quaternion')"
   ]
  },
  {
   "cell_type": "code",
   "execution_count": null,
   "id": "70e5570c",
   "metadata": {},
   "outputs": [],
   "source": [
    "# Linear Velocity\n",
    "\n",
    "fig = plt.figure()\n",
    "\n",
    "plt.subplot(3, 1, 1)\n",
    "plt.plot(poses['t'], vels[:, 0])\n",
    "plt.grid()\n",
    "plt.ylabel('x')\n",
    "\n",
    "plt.subplot(3, 1, 2)\n",
    "plt.plot(poses['t'], vels[:, 1])\n",
    "plt.grid()\n",
    "plt.ylabel('y')\n",
    "\n",
    "plt.subplot(3, 1, 3)\n",
    "plt.plot(poses['t'], vels[:, 2])\n",
    "plt.grid()\n",
    "plt.xlabel('time')\n",
    "plt.ylabel('z')\n",
    "\n",
    "fig.suptitle('Linear Velocity')"
   ]
  },
  {
   "cell_type": "code",
   "execution_count": null,
   "id": "71dc1e1b",
   "metadata": {},
   "outputs": [],
   "source": [
    "# Angular Velocity\n",
    "\n",
    "fig = plt.figure()\n",
    "\n",
    "plt.subplot(3, 1, 1)\n",
    "plt.plot(poses['t'], vels[:, 3])\n",
    "plt.grid()\n",
    "plt.ylabel('x')\n",
    "\n",
    "plt.subplot(3, 1, 2)\n",
    "plt.plot(poses['t'], vels[:, 4])\n",
    "plt.grid()\n",
    "plt.ylabel('y')\n",
    "\n",
    "plt.subplot(3, 1, 3)\n",
    "plt.plot(poses['t'], vels[:, 5])\n",
    "plt.grid()\n",
    "plt.xlabel('time')\n",
    "plt.ylabel('z')\n",
    "\n",
    "fig.suptitle('Angular Velocity')"
   ]
  },
  {
   "cell_type": "code",
   "execution_count": null,
   "id": "a8615251",
   "metadata": {},
   "outputs": [],
   "source": [
    "# Linear Acceleration\n",
    "\n",
    "fig = plt.figure()\n",
    "\n",
    "plt.subplot(3, 1, 1)\n",
    "plt.plot(poses['t'][:-1], accs[:, 0])\n",
    "plt.grid()\n",
    "plt.ylabel('x')\n",
    "\n",
    "plt.subplot(3, 1, 2)\n",
    "plt.plot(poses['t'][:-1], accs[:, 1])\n",
    "plt.grid()\n",
    "plt.ylabel('y')\n",
    "\n",
    "plt.subplot(3, 1, 3)\n",
    "plt.plot(poses['t'][:-1], accs[:, 2])\n",
    "plt.grid()\n",
    "plt.xlabel('time')\n",
    "plt.ylabel('z')\n",
    "\n",
    "fig.suptitle('Linear Acceleration')"
   ]
  },
  {
   "cell_type": "code",
   "execution_count": null,
   "id": "da5fec26",
   "metadata": {},
   "outputs": [],
   "source": [
    "# Angular Acceleration\n",
    "\n",
    "fig = plt.figure()\n",
    "\n",
    "plt.subplot(3, 1, 1)\n",
    "plt.plot(poses['t'][:-1], accs[:, 3])\n",
    "plt.grid()\n",
    "plt.ylabel('x')\n",
    "\n",
    "plt.subplot(3, 1, 2)\n",
    "plt.plot(poses['t'][:-1], accs[:, 4])\n",
    "plt.grid()\n",
    "plt.ylabel('y')\n",
    "\n",
    "plt.subplot(3, 1, 3)\n",
    "plt.plot(poses['t'][:-1], accs[:, 5])\n",
    "plt.grid()\n",
    "plt.xlabel('time')\n",
    "plt.ylabel('z')\n",
    "\n",
    "fig.suptitle('Angular Acceleration')"
   ]
  }
 ],
 "metadata": {
  "kernelspec": {
   "display_name": "Python 3 (ipykernel)",
   "language": "python",
   "name": "python3"
  },
  "language_info": {
   "codemirror_mode": {
    "name": "ipython",
    "version": 3
   },
   "file_extension": ".py",
   "mimetype": "text/x-python",
   "name": "python",
   "nbconvert_exporter": "python",
   "pygments_lexer": "ipython3",
   "version": "3.10.6"
  }
 },
 "nbformat": 4,
 "nbformat_minor": 5
}
